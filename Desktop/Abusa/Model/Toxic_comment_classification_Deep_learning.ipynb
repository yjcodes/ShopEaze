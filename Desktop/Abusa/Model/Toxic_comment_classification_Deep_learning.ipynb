{
  "nbformat": 4,
  "nbformat_minor": 0,
  "metadata": {
    "kernelspec": {
      "display_name": "Python 3",
      "language": "python",
      "name": "python3"
    },
    "language_info": {
      "codemirror_mode": {
        "name": "ipython",
        "version": 3
      },
      "file_extension": ".py",
      "mimetype": "text/x-python",
      "name": "python",
      "nbconvert_exporter": "python",
      "pygments_lexer": "ipython3",
      "version": "3.6.5"
    },
    "colab": {
      "name": "Toxic comment classification - Deep learning.ipynb",
      "provenance": [],
      "toc_visible": true
    }
  },
  "cells": [
    {
      "cell_type": "markdown",
      "metadata": {
        "id": "d7p_Ap5jSNzw"
      },
      "source": [
        "# Code : "
      ]
    },
    {
      "cell_type": "markdown",
      "metadata": {
        "id": "9o4yMJG848EN"
      },
      "source": [
        "https://github.com/shettyprithvi/Toxic-comment-classification-deep-learning/blob/master/Toxic%20comment%20classification%20-%20Deep%20learning%20vs%20machine%20learning.ipynb"
      ]
    },
    {
      "cell_type": "markdown",
      "metadata": {
        "id": "4xetDm1i4-NB"
      },
      "source": [
        "![image.png](data:image/png;base64,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)"
      ]
    },
    {
      "cell_type": "markdown",
      "metadata": {
        "id": "uShVvPPASNzw"
      },
      "source": [
        "## 1. Data reading and cleaning"
      ]
    },
    {
      "cell_type": "markdown",
      "metadata": {
        "id": "89XzFtRISNzx"
      },
      "source": [
        "### 1.1 Importing essential libraries"
      ]
    },
    {
      "cell_type": "code",
      "metadata": {
        "colab": {
          "base_uri": "https://localhost:8080/"
        },
        "id": "EZhrvpyHSNzx",
        "outputId": "94efb09a-c48d-4e58-fa36-38bd6a7584ae"
      },
      "source": [
        "import pandas as pd\n",
        "import numpy as np\n",
        "from IPython.core.interactiveshell import InteractiveShell\n",
        "InteractiveShell.ast_node_interactivity=\"all\"\n",
        "import matplotlib.pyplot as plt\n",
        "%matplotlib inline\n",
        "import re\n",
        "import string\n",
        "pd.set_option('display.max_colwidth', -1)"
      ],
      "execution_count": 2,
      "outputs": [
        {
          "output_type": "stream",
          "text": [
            "/usr/local/lib/python3.6/dist-packages/ipykernel_launcher.py:9: FutureWarning: Passing a negative integer is deprecated in version 1.0 and will not be supported in future version. Instead, use None to not limit the column width.\n",
            "  if __name__ == '__main__':\n"
          ],
          "name": "stderr"
        }
      ]
    },
    {
      "cell_type": "markdown",
      "metadata": {
        "id": "Al8BER3VSNzx"
      },
      "source": [
        "### 1.2 Null cleaning function"
      ]
    },
    {
      "cell_type": "code",
      "metadata": {
        "id": "5HCQZOmmSNzy"
      },
      "source": [
        "#Null cleaning function\n",
        "\n",
        "def myfillna(series):\n",
        "    if series.dtype is pd.np.dtype(float):\n",
        "        return series.fillna('')\n",
        "    elif series.dtype is pd.np.dtype(int):\n",
        "        return series.fillna('')\n",
        "    else:\n",
        "        return series.fillna('NA')"
      ],
      "execution_count": 3,
      "outputs": []
    },
    {
      "cell_type": "markdown",
      "metadata": {
        "id": "NNA9OazbSNzy"
      },
      "source": [
        "### 1.3 Reading data and applying null cleaning function"
      ]
    },
    {
      "cell_type": "code",
      "metadata": {
        "id": "yYoY9uFHSNzy"
      },
      "source": [
        "#Reading data\n",
        "data=pd.read_csv('train.csv',encoding='latin-1')"
      ],
      "execution_count": 4,
      "outputs": []
    },
    {
      "cell_type": "code",
      "metadata": {
        "colab": {
          "base_uri": "https://localhost:8080/"
        },
        "id": "Jp16mftBSNzz",
        "outputId": "b3813b5a-6033-46a7-eb60-45ede4c1ae4b"
      },
      "source": [
        "data.shape"
      ],
      "execution_count": 5,
      "outputs": [
        {
          "output_type": "execute_result",
          "data": {
            "text/plain": [
              "(159571, 8)"
            ]
          },
          "metadata": {
            "tags": []
          },
          "execution_count": 5
        }
      ]
    },
    {
      "cell_type": "code",
      "metadata": {
        "colab": {
          "base_uri": "https://localhost:8080/"
        },
        "id": "UqlD9-MTSNzz",
        "outputId": "b54b2227-777a-494d-8684-8c94ae17bbcf"
      },
      "source": [
        "data=data.apply(myfillna)"
      ],
      "execution_count": 6,
      "outputs": [
        {
          "output_type": "stream",
          "text": [
            "/usr/local/lib/python3.6/dist-packages/ipykernel_launcher.py:4: FutureWarning: The pandas.np module is deprecated and will be removed from pandas in a future version. Import numpy directly instead\n",
            "  after removing the cwd from sys.path.\n",
            "/usr/local/lib/python3.6/dist-packages/ipykernel_launcher.py:6: FutureWarning: The pandas.np module is deprecated and will be removed from pandas in a future version. Import numpy directly instead\n",
            "  \n"
          ],
          "name": "stderr"
        }
      ]
    },
    {
      "cell_type": "code",
      "metadata": {
        "colab": {
          "base_uri": "https://localhost:8080/",
          "height": 430
        },
        "id": "W5iPUMD4SNzz",
        "outputId": "9e0786f5-731f-46b0-ac22-3959a8d9fd64"
      },
      "source": [
        "data.head()"
      ],
      "execution_count": 7,
      "outputs": [
        {
          "output_type": "execute_result",
          "data": {
            "text/html": [
              "<div>\n",
              "<style scoped>\n",
              "    .dataframe tbody tr th:only-of-type {\n",
              "        vertical-align: middle;\n",
              "    }\n",
              "\n",
              "    .dataframe tbody tr th {\n",
              "        vertical-align: top;\n",
              "    }\n",
              "\n",
              "    .dataframe thead th {\n",
              "        text-align: right;\n",
              "    }\n",
              "</style>\n",
              "<table border=\"1\" class=\"dataframe\">\n",
              "  <thead>\n",
              "    <tr style=\"text-align: right;\">\n",
              "      <th></th>\n",
              "      <th>id</th>\n",
              "      <th>comment_text</th>\n",
              "      <th>toxic</th>\n",
              "      <th>severe_toxic</th>\n",
              "      <th>obscene</th>\n",
              "      <th>threat</th>\n",
              "      <th>insult</th>\n",
              "      <th>identity_hate</th>\n",
              "    </tr>\n",
              "  </thead>\n",
              "  <tbody>\n",
              "    <tr>\n",
              "      <th>0</th>\n",
              "      <td>0000997932d777bf</td>\n",
              "      <td>Explanation\\nWhy the edits made under my username Hardcore Metallica Fan were reverted? They weren't vandalisms, just closure on some GAs after I voted at New York Dolls FAC. And please don't remove the template from the talk page since I'm retired now.89.205.38.27</td>\n",
              "      <td>0</td>\n",
              "      <td>0</td>\n",
              "      <td>0</td>\n",
              "      <td>0</td>\n",
              "      <td>0</td>\n",
              "      <td>0</td>\n",
              "    </tr>\n",
              "    <tr>\n",
              "      <th>1</th>\n",
              "      <td>000103f0d9cfb60f</td>\n",
              "      <td>D'aww! He matches this background colour I'm seemingly stuck with. Thanks.  (talk) 21:51, January 11, 2016 (UTC)</td>\n",
              "      <td>0</td>\n",
              "      <td>0</td>\n",
              "      <td>0</td>\n",
              "      <td>0</td>\n",
              "      <td>0</td>\n",
              "      <td>0</td>\n",
              "    </tr>\n",
              "    <tr>\n",
              "      <th>2</th>\n",
              "      <td>000113f07ec002fd</td>\n",
              "      <td>Hey man, I'm really not trying to edit war. It's just that this guy is constantly removing relevant information and talking to me through edits instead of my talk page. He seems to care more about the formatting than the actual info.</td>\n",
              "      <td>0</td>\n",
              "      <td>0</td>\n",
              "      <td>0</td>\n",
              "      <td>0</td>\n",
              "      <td>0</td>\n",
              "      <td>0</td>\n",
              "    </tr>\n",
              "    <tr>\n",
              "      <th>3</th>\n",
              "      <td>0001b41b1c6bb37e</td>\n",
              "      <td>\"\\nMore\\nI can't make any real suggestions on improvement - I wondered if the section statistics should be later on, or a subsection of \"\"types of accidents\"\"  -I think the references may need tidying so that they are all in the exact same format ie date format etc. I can do that later on, if no-one else does first - if you have any preferences for formatting style on references or want to do it yourself please let me know.\\n\\nThere appears to be a backlog on articles for review so I guess there may be a delay until a reviewer turns up. It's listed in the relevant form eg Wikipedia:Good_article_nominations#Transport  \"</td>\n",
              "      <td>0</td>\n",
              "      <td>0</td>\n",
              "      <td>0</td>\n",
              "      <td>0</td>\n",
              "      <td>0</td>\n",
              "      <td>0</td>\n",
              "    </tr>\n",
              "    <tr>\n",
              "      <th>4</th>\n",
              "      <td>0001d958c54c6e35</td>\n",
              "      <td>You, sir, are my hero. Any chance you remember what page that's on?</td>\n",
              "      <td>0</td>\n",
              "      <td>0</td>\n",
              "      <td>0</td>\n",
              "      <td>0</td>\n",
              "      <td>0</td>\n",
              "      <td>0</td>\n",
              "    </tr>\n",
              "  </tbody>\n",
              "</table>\n",
              "</div>"
            ],
            "text/plain": [
              "                 id  ... identity_hate\n",
              "0  0000997932d777bf  ...  0           \n",
              "1  000103f0d9cfb60f  ...  0           \n",
              "2  000113f07ec002fd  ...  0           \n",
              "3  0001b41b1c6bb37e  ...  0           \n",
              "4  0001d958c54c6e35  ...  0           \n",
              "\n",
              "[5 rows x 8 columns]"
            ]
          },
          "metadata": {
            "tags": []
          },
          "execution_count": 7
        }
      ]
    },
    {
      "cell_type": "code",
      "metadata": {
        "colab": {
          "base_uri": "https://localhost:8080/"
        },
        "id": "pKlghul0SNz0",
        "outputId": "ec568170-4af8-490f-c2ff-ea5bd3e65a42"
      },
      "source": [
        "data.comment_text"
      ],
      "execution_count": 8,
      "outputs": [
        {
          "output_type": "execute_result",
          "data": {
            "text/plain": [
              "0         Explanation\\nWhy the edits made under my username Hardcore Metallica Fan were reverted? They weren't vandalisms, just closure on some GAs after I voted at New York Dolls FAC. And please don't remove the template from the talk page since I'm retired now.89.205.38.27                                                                                                                                                                                                                                                                                                                                                                         \n",
              "1         D'aww! He matches this background colour I'm seemingly stuck with. Thanks.  (talk) 21:51, January 11, 2016 (UTC)                                                                                                                                                                                                                                                                                                                                                                                                                                                                                                                                  \n",
              "2         Hey man, I'm really not trying to edit war. It's just that this guy is constantly removing relevant information and talking to me through edits instead of my talk page. He seems to care more about the formatting than the actual info.                                                                                                                                                                                                                                                                                                                                                                                                         \n",
              "3         \"\\nMore\\nI can't make any real suggestions on improvement - I wondered if the section statistics should be later on, or a subsection of \"\"types of accidents\"\"  -I think the references may need tidying so that they are all in the exact same format ie date format etc. I can do that later on, if no-one else does first - if you have any preferences for formatting style on references or want to do it yourself please let me know.\\n\\nThere appears to be a backlog on articles for review so I guess there may be a delay until a reviewer turns up. It's listed in the relevant form eg Wikipedia:Good_article_nominations#Transport  \"\n",
              "4         You, sir, are my hero. Any chance you remember what page that's on?                                                                                                                                                                                                                                                                                                                                                                                                                                                                                                                                                                               \n",
              "                                         ...                                                                                                                                                                                                                                                                                                                                                                                                                                                                                                                                                                                                                \n",
              "159566    \":::::And for the second time of asking, when your view completely contradicts the coverage in reliable sources, why should anyone care what you feel? You can't even give a consistent argument - is the opening only supposed to mention significant aspects, or the \"\"most significant\"\" ones?   \\n\\n\"                                                                                                                                                                                                                                                                                                                                         \n",
              "159567    You should be ashamed of yourself \\n\\nThat is a horrible thing you put on my talk page.  128.61.19.93                                                                                                                                                                                                                                                                                                                                                                                                                                                                                                                                             \n",
              "159568    Spitzer \\n\\nUmm, theres no actual article for prostitution ring.  - Crunch Captain.                                                                                                                                                                                                                                                                                                                                                                                                                                                                                                                                                               \n",
              "159569    And it looks like it was actually you who put on the speedy to have the first version deleted now that I look at it.                                                                                                                                                                                                                                                                                                                                                                                                                                                                                                                              \n",
              "159570    \"\\nAnd ... I really don't think you understand.  I came here and my idea was bad right away.  What kind of community goes \"\"you have bad ideas\"\" go away, instead of helping rewrite them.   \"                                                                                                                                                                                                                                                                                                                                                                                                                                                    \n",
              "Name: comment_text, Length: 159571, dtype: object"
            ]
          },
          "metadata": {
            "tags": []
          },
          "execution_count": 8
        }
      ]
    },
    {
      "cell_type": "markdown",
      "metadata": {
        "id": "fExY1BM-SNz0"
      },
      "source": [
        "### 1.4 Cleaning all non-alphanumeric characters"
      ]
    },
    {
      "cell_type": "code",
      "metadata": {
        "id": "SQNDSsQdSNz0"
      },
      "source": [
        "data.comment_text=data.comment_text.str.replace('[^a-zA-Z]', ' ')"
      ],
      "execution_count": 9,
      "outputs": []
    },
    {
      "cell_type": "markdown",
      "metadata": {
        "id": "5hppM_8sSNz1"
      },
      "source": [
        "### 1.5 Converting to lowercase and removing punctuations"
      ]
    },
    {
      "cell_type": "code",
      "metadata": {
        "id": "PYljBIWSSNz1"
      },
      "source": [
        "\n",
        "RE_PREPROCESS = r'\\W+|\\d+' #the regular expressions that matches all non-characters\n",
        "data.comment_text = np.array( [ re.sub(RE_PREPROCESS, ' ', comment).lower() for comment in data.comment_text])"
      ],
      "execution_count": 10,
      "outputs": []
    },
    {
      "cell_type": "markdown",
      "metadata": {
        "id": "--TmeNOiSNz1"
      },
      "source": [
        "#### Cleaned data output"
      ]
    },
    {
      "cell_type": "code",
      "metadata": {
        "colab": {
          "base_uri": "https://localhost:8080/"
        },
        "id": "EXy-HmvuSNz1",
        "outputId": "b5810f21-f52a-4f99-c80e-b91b73c1f43a"
      },
      "source": [
        "data.comment_text.head()"
      ],
      "execution_count": 11,
      "outputs": [
        {
          "output_type": "execute_result",
          "data": {
            "text/plain": [
              "0    explanation why the edits made under my username hardcore metallica fan were reverted they weren t vandalisms just closure on some gas after i voted at new york dolls fac and please don t remove the template from the talk page since i m retired now                                                                                                                                                                                                                                                                                                                                                                   \n",
              "1    d aww he matches this background colour i m seemingly stuck with thanks talk january utc                                                                                                                                                                                                                                                                                                                                                                                                                                                                                                                                   \n",
              "2    hey man i m really not trying to edit war it s just that this guy is constantly removing relevant information and talking to me through edits instead of my talk page he seems to care more about the formatting than the actual info                                                                                                                                                                                                                                                                                                                                                                                      \n",
              "3     more i can t make any real suggestions on improvement i wondered if the section statistics should be later on or a subsection of types of accidents i think the references may need tidying so that they are all in the exact same format ie date format etc i can do that later on if no one else does first if you have any preferences for formatting style on references or want to do it yourself please let me know there appears to be a backlog on articles for review so i guess there may be a delay until a reviewer turns up it s listed in the relevant form eg wikipedia good article nominations transport \n",
              "4    you sir are my hero any chance you remember what page that s on                                                                                                                                                                                                                                                                                                                                                                                                                                                                                                                                                            \n",
              "Name: comment_text, dtype: object"
            ]
          },
          "metadata": {
            "tags": []
          },
          "execution_count": 11
        }
      ]
    },
    {
      "cell_type": "code",
      "metadata": {
        "colab": {
          "base_uri": "https://localhost:8080/",
          "height": 414
        },
        "id": "KBxouO8wSNz2",
        "outputId": "ba0c69a1-9b9c-4de7-9fd1-c5fa3b0bf64b"
      },
      "source": [
        "data.head()"
      ],
      "execution_count": 12,
      "outputs": [
        {
          "output_type": "execute_result",
          "data": {
            "text/html": [
              "<div>\n",
              "<style scoped>\n",
              "    .dataframe tbody tr th:only-of-type {\n",
              "        vertical-align: middle;\n",
              "    }\n",
              "\n",
              "    .dataframe tbody tr th {\n",
              "        vertical-align: top;\n",
              "    }\n",
              "\n",
              "    .dataframe thead th {\n",
              "        text-align: right;\n",
              "    }\n",
              "</style>\n",
              "<table border=\"1\" class=\"dataframe\">\n",
              "  <thead>\n",
              "    <tr style=\"text-align: right;\">\n",
              "      <th></th>\n",
              "      <th>id</th>\n",
              "      <th>comment_text</th>\n",
              "      <th>toxic</th>\n",
              "      <th>severe_toxic</th>\n",
              "      <th>obscene</th>\n",
              "      <th>threat</th>\n",
              "      <th>insult</th>\n",
              "      <th>identity_hate</th>\n",
              "    </tr>\n",
              "  </thead>\n",
              "  <tbody>\n",
              "    <tr>\n",
              "      <th>0</th>\n",
              "      <td>0000997932d777bf</td>\n",
              "      <td>explanation why the edits made under my username hardcore metallica fan were reverted they weren t vandalisms just closure on some gas after i voted at new york dolls fac and please don t remove the template from the talk page since i m retired now</td>\n",
              "      <td>0</td>\n",
              "      <td>0</td>\n",
              "      <td>0</td>\n",
              "      <td>0</td>\n",
              "      <td>0</td>\n",
              "      <td>0</td>\n",
              "    </tr>\n",
              "    <tr>\n",
              "      <th>1</th>\n",
              "      <td>000103f0d9cfb60f</td>\n",
              "      <td>d aww he matches this background colour i m seemingly stuck with thanks talk january utc</td>\n",
              "      <td>0</td>\n",
              "      <td>0</td>\n",
              "      <td>0</td>\n",
              "      <td>0</td>\n",
              "      <td>0</td>\n",
              "      <td>0</td>\n",
              "    </tr>\n",
              "    <tr>\n",
              "      <th>2</th>\n",
              "      <td>000113f07ec002fd</td>\n",
              "      <td>hey man i m really not trying to edit war it s just that this guy is constantly removing relevant information and talking to me through edits instead of my talk page he seems to care more about the formatting than the actual info</td>\n",
              "      <td>0</td>\n",
              "      <td>0</td>\n",
              "      <td>0</td>\n",
              "      <td>0</td>\n",
              "      <td>0</td>\n",
              "      <td>0</td>\n",
              "    </tr>\n",
              "    <tr>\n",
              "      <th>3</th>\n",
              "      <td>0001b41b1c6bb37e</td>\n",
              "      <td>more i can t make any real suggestions on improvement i wondered if the section statistics should be later on or a subsection of types of accidents i think the references may need tidying so that they are all in the exact same format ie date format etc i can do that later on if no one else does first if you have any preferences for formatting style on references or want to do it yourself please let me know there appears to be a backlog on articles for review so i guess there may be a delay until a reviewer turns up it s listed in the relevant form eg wikipedia good article nominations transport</td>\n",
              "      <td>0</td>\n",
              "      <td>0</td>\n",
              "      <td>0</td>\n",
              "      <td>0</td>\n",
              "      <td>0</td>\n",
              "      <td>0</td>\n",
              "    </tr>\n",
              "    <tr>\n",
              "      <th>4</th>\n",
              "      <td>0001d958c54c6e35</td>\n",
              "      <td>you sir are my hero any chance you remember what page that s on</td>\n",
              "      <td>0</td>\n",
              "      <td>0</td>\n",
              "      <td>0</td>\n",
              "      <td>0</td>\n",
              "      <td>0</td>\n",
              "      <td>0</td>\n",
              "    </tr>\n",
              "  </tbody>\n",
              "</table>\n",
              "</div>"
            ],
            "text/plain": [
              "                 id  ... identity_hate\n",
              "0  0000997932d777bf  ...  0           \n",
              "1  000103f0d9cfb60f  ...  0           \n",
              "2  000113f07ec002fd  ...  0           \n",
              "3  0001b41b1c6bb37e  ...  0           \n",
              "4  0001d958c54c6e35  ...  0           \n",
              "\n",
              "[5 rows x 8 columns]"
            ]
          },
          "metadata": {
            "tags": []
          },
          "execution_count": 12
        }
      ]
    },
    {
      "cell_type": "markdown",
      "metadata": {
        "id": "N_NT4Fr0SNz2"
      },
      "source": [
        "## 2. Deep learning using Bidirectional LSTM for prediction"
      ]
    },
    {
      "cell_type": "markdown",
      "metadata": {
        "id": "vsHME9DXSNz2"
      },
      "source": [
        "### 2.1 Importing all the keras libraries"
      ]
    },
    {
      "cell_type": "code",
      "metadata": {
        "id": "2Mi6azMxSNz2"
      },
      "source": [
        "from keras.preprocessing import sequence\n",
        "from keras.models import Sequential\n",
        "from keras.layers import Activation, Dense, Embedding, Bidirectional\n",
        "from keras.layers import LSTM\n",
        "from keras.datasets import imdb\n",
        "from keras.layers import Flatten\n",
        "from keras.layers import TimeDistributed\n",
        "from keras.layers import AveragePooling1D\n",
        "from keras.layers import Conv1D\n",
        "from keras.models import load_model\n",
        "from keras.preprocessing.text import Tokenizer"
      ],
      "execution_count": 13,
      "outputs": []
    },
    {
      "cell_type": "markdown",
      "metadata": {
        "id": "33cH5dB0SNz3"
      },
      "source": [
        "### 2.2 Splitting into training and test data"
      ]
    },
    {
      "cell_type": "code",
      "metadata": {
        "id": "g7yesVQ-SNz3"
      },
      "source": [
        "train_size = int(len(data) * .2)\n",
        "train_posts = data['comment_text'][train_size:]\n",
        "train_tags = data['toxic'][train_size:]\n",
        "test_posts = data['comment_text'][:train_size]\n",
        "test_tags = data['toxic'][:train_size]"
      ],
      "execution_count": 14,
      "outputs": []
    },
    {
      "cell_type": "code",
      "metadata": {
        "colab": {
          "base_uri": "https://localhost:8080/"
        },
        "id": "oz3BR3l6nYXS",
        "outputId": "2c3b9782-c100-4217-cd51-fb041342ecc7"
      },
      "source": [
        "test_posts"
      ],
      "execution_count": 15,
      "outputs": [
        {
          "output_type": "execute_result",
          "data": {
            "text/plain": [
              "0        explanation why the edits made under my username hardcore metallica fan were reverted they weren t vandalisms just closure on some gas after i voted at new york dolls fac and please don t remove the template from the talk page since i m retired now                                                                                                                                                                                                                                                                                                                                                                   \n",
              "1        d aww he matches this background colour i m seemingly stuck with thanks talk january utc                                                                                                                                                                                                                                                                                                                                                                                                                                                                                                                                   \n",
              "2        hey man i m really not trying to edit war it s just that this guy is constantly removing relevant information and talking to me through edits instead of my talk page he seems to care more about the formatting than the actual info                                                                                                                                                                                                                                                                                                                                                                                      \n",
              "3         more i can t make any real suggestions on improvement i wondered if the section statistics should be later on or a subsection of types of accidents i think the references may need tidying so that they are all in the exact same format ie date format etc i can do that later on if no one else does first if you have any preferences for formatting style on references or want to do it yourself please let me know there appears to be a backlog on articles for review so i guess there may be a delay until a reviewer turns up it s listed in the relevant form eg wikipedia good article nominations transport \n",
              "4        you sir are my hero any chance you remember what page that s on                                                                                                                                                                                                                                                                                                                                                                                                                                                                                                                                                            \n",
              "                                       ...                                                                                                                                                                                                                                                                                                                                                                                                                                                                                                                                                                                          \n",
              "31909    december utc i think it s essential that a proof of these lost works is done where does it say that they did in fact exist at some point apparently there is a listing but where can i go to see this listing                                                                                                                                                                                                                                                                                                                                                                                                              \n",
              "31910     unblock an administrator at ani has expressed her reasons why my block was inappropriate here please take a minute to see that i was unjustly blocked for doing something wikipedia allows me to do                                                                                                                                                                                                                                                                                                                                                                                                                       \n",
              "31911    i am modifying the sentence to the saint thomas christians believed to be founded by the apostle thomas                                                                                                                                                                                                                                                                                                                                                                                                                                                                                                                    \n",
              "31912     hey dipshit i made a contribution wooden ships so now i can make vandalizations after that i ll make another contribution cumfart with a picture of you lololol so i can make even more vandalisiziations                                                                                                                                                                                                                                                                                                                                                                                                                 \n",
              "31913    note to an admin reviewing the unblock request please first review the relevant ani thread wp ani strange edits that i did not make appear in my contributions                                                                                                                                                                                                                                                                                                                                                                                                                                                             \n",
              "Name: comment_text, Length: 31914, dtype: object"
            ]
          },
          "metadata": {
            "tags": []
          },
          "execution_count": 15
        }
      ]
    },
    {
      "cell_type": "markdown",
      "metadata": {
        "id": "aI86f-mPSNz3"
      },
      "source": [
        "### 2.3 Tokenizer function of keras\n",
        "**Tokenizer will tokenize the sentences by fitting it on training set with maximum number of features of 3000 and preprocess it using Tf-idf (It will also remove stopwords)**"
      ]
    },
    {
      "cell_type": "code",
      "metadata": {
        "id": "1KDhmyejSNz3"
      },
      "source": [
        "vocab_size = 3000\n",
        "tokenize = Tokenizer(num_words=vocab_size)\n",
        "tokenize.fit_on_texts(train_posts)"
      ],
      "execution_count": 16,
      "outputs": []
    },
    {
      "cell_type": "markdown",
      "metadata": {
        "id": "umfUpwFISNz4"
      },
      "source": [
        "### 2.4 Vectorization \n",
        "**Convert the tokens into a matrix feature space (vectorized format)**"
      ]
    },
    {
      "cell_type": "code",
      "metadata": {
        "id": "WAqKL1UXSNz4"
      },
      "source": [
        "x_train = tokenize.texts_to_matrix(train_posts)"
      ],
      "execution_count": 17,
      "outputs": []
    },
    {
      "cell_type": "code",
      "metadata": {
        "colab": {
          "base_uri": "https://localhost:8080/"
        },
        "id": "t9XihiDISNz4",
        "outputId": "421fb592-fc2c-441b-99b3-68fe22a13ba0"
      },
      "source": [
        "x_train = np.reshape(x_train, (x_train.shape[0], 1, x_train.shape[1]))\n",
        "x_train.shape"
      ],
      "execution_count": 18,
      "outputs": [
        {
          "output_type": "execute_result",
          "data": {
            "text/plain": [
              "(127657, 1, 3000)"
            ]
          },
          "metadata": {
            "tags": []
          },
          "execution_count": 18
        }
      ]
    },
    {
      "cell_type": "markdown",
      "metadata": {
        "id": "Ye3qc0NOSNz4"
      },
      "source": [
        "### 2.5 Converting all the output labels into appropriate categorical form for model training"
      ]
    },
    {
      "cell_type": "code",
      "metadata": {
        "id": "wT2JGPGvSNz5"
      },
      "source": [
        "from sklearn.preprocessing import LabelBinarizer"
      ],
      "execution_count": 19,
      "outputs": []
    },
    {
      "cell_type": "code",
      "metadata": {
        "colab": {
          "base_uri": "https://localhost:8080/"
        },
        "id": "Gl1TIspgSNz5",
        "outputId": "84868e3e-a350-48be-bf60-3059780d401b"
      },
      "source": [
        "train_tags.shape"
      ],
      "execution_count": 20,
      "outputs": [
        {
          "output_type": "execute_result",
          "data": {
            "text/plain": [
              "(127657,)"
            ]
          },
          "metadata": {
            "tags": []
          },
          "execution_count": 20
        }
      ]
    },
    {
      "cell_type": "code",
      "metadata": {
        "id": "6zNxQYYnSNz5"
      },
      "source": [
        "train_tags=train_tags.astype(int)\n",
        "test_tags=test_tags.astype(int)"
      ],
      "execution_count": 21,
      "outputs": []
    },
    {
      "cell_type": "code",
      "metadata": {
        "colab": {
          "base_uri": "https://localhost:8080/"
        },
        "id": "5_CjduK-SNz5",
        "outputId": "63ec2135-7670-461e-a0f5-5a2613200e31"
      },
      "source": [
        "#Converting the training labels to the binary format\n",
        "encoder = LabelBinarizer()\n",
        "encoder.fit(train_tags)\n",
        "y_train = encoder.transform(train_tags)\n",
        "y_test = encoder.transform(test_tags)"
      ],
      "execution_count": 22,
      "outputs": [
        {
          "output_type": "execute_result",
          "data": {
            "text/plain": [
              "LabelBinarizer(neg_label=0, pos_label=1, sparse_output=False)"
            ]
          },
          "metadata": {
            "tags": []
          },
          "execution_count": 22
        }
      ]
    },
    {
      "cell_type": "code",
      "metadata": {
        "id": "-tL4k74mSNz6"
      },
      "source": [
        "#Converting binary labels to categorical format for Keras model training\n",
        "from keras.utils import to_categorical\n",
        "y_train = to_categorical(y_train)"
      ],
      "execution_count": 23,
      "outputs": []
    },
    {
      "cell_type": "markdown",
      "metadata": {
        "id": "BgHigUShSNz6"
      },
      "source": [
        "### 2.6 Building the neural network"
      ]
    },
    {
      "cell_type": "code",
      "metadata": {
        "id": "uwXMmeehSNz6"
      },
      "source": [
        "\n",
        "data_dim = 3000\n",
        "timesteps = 1\n",
        "num_classes = 2\n",
        "\n",
        "model = Sequential()\n",
        "model.add(Bidirectional(LSTM(30, return_sequences=True,\n",
        "               input_shape=(timesteps, data_dim))))  # returns a sequence of vectors of dimension 30\n",
        "model.add(Conv1D(30, 1, activation='relu')) #Convolution Layer for filtering the vectors\n",
        "model.add(Bidirectional(LSTM(30, return_sequences=True)))\n",
        "model.add(Bidirectional(LSTM(30,recurrent_dropout=0.1)))  # return a single vector of dimension 30\n",
        "model.add(Activation('relu')) #Adding a RELU activation unit\n",
        "model.add(Dense(2, activation='softmax')) #Final softmax layer which will predict the output\n",
        "\n",
        "model.compile(loss='binary_crossentropy',\n",
        "              optimizer='adam',\n",
        "              metrics=['accuracy'])"
      ],
      "execution_count": 24,
      "outputs": []
    },
    {
      "cell_type": "markdown",
      "metadata": {
        "id": "zeALys9TSNz6"
      },
      "source": [
        "### 2.7 Training the model with 30 epochs of the training data"
      ]
    },
    {
      "cell_type": "code",
      "metadata": {
        "colab": {
          "base_uri": "https://localhost:8080/"
        },
        "id": "c7iLrDQSSNz7",
        "outputId": "7985d8b8-879d-4316-a34b-999488cc2ebe"
      },
      "source": [
        "model.fit(x_train, y_train, batch_size = 200, epochs = 30, verbose = 1)"
      ],
      "execution_count": 25,
      "outputs": [
        {
          "output_type": "stream",
          "text": [
            "Epoch 1/30\n",
            "639/639 [==============================] - 49s 53ms/step - loss: 0.2958 - accuracy: 0.9238\n",
            "Epoch 2/30\n",
            "639/639 [==============================] - 31s 49ms/step - loss: 0.1107 - accuracy: 0.9611\n",
            "Epoch 3/30\n",
            "639/639 [==============================] - 30s 48ms/step - loss: 0.0994 - accuracy: 0.9646\n",
            "Epoch 4/30\n",
            "639/639 [==============================] - 32s 50ms/step - loss: 0.0896 - accuracy: 0.9672\n",
            "Epoch 5/30\n",
            "639/639 [==============================] - 33s 52ms/step - loss: 0.0807 - accuracy: 0.9709\n",
            "Epoch 6/30\n",
            "639/639 [==============================] - 36s 57ms/step - loss: 0.0675 - accuracy: 0.9758\n",
            "Epoch 7/30\n",
            "639/639 [==============================] - 38s 59ms/step - loss: 0.0544 - accuracy: 0.9806\n",
            "Epoch 8/30\n",
            "639/639 [==============================] - 38s 60ms/step - loss: 0.0438 - accuracy: 0.9844\n",
            "Epoch 9/30\n",
            "639/639 [==============================] - 32s 49ms/step - loss: 0.0346 - accuracy: 0.9880\n",
            "Epoch 10/30\n",
            "639/639 [==============================] - 40s 63ms/step - loss: 0.0281 - accuracy: 0.9908\n",
            "Epoch 11/30\n",
            "639/639 [==============================] - 38s 59ms/step - loss: 0.0209 - accuracy: 0.9930\n",
            "Epoch 12/30\n",
            "639/639 [==============================] - 33s 51ms/step - loss: 0.0179 - accuracy: 0.9947\n",
            "Epoch 13/30\n",
            "639/639 [==============================] - 33s 51ms/step - loss: 0.0160 - accuracy: 0.9949\n",
            "Epoch 14/30\n",
            "639/639 [==============================] - 28s 43ms/step - loss: 0.0139 - accuracy: 0.9957\n",
            "Epoch 15/30\n",
            "639/639 [==============================] - 32s 50ms/step - loss: 0.0114 - accuracy: 0.9966\n",
            "Epoch 16/30\n",
            "639/639 [==============================] - 33s 51ms/step - loss: 0.0111 - accuracy: 0.9967\n",
            "Epoch 17/30\n",
            "639/639 [==============================] - 39s 61ms/step - loss: 0.0102 - accuracy: 0.9969\n",
            "Epoch 18/30\n",
            "639/639 [==============================] - 37s 59ms/step - loss: 0.0094 - accuracy: 0.9971\n",
            "Epoch 19/30\n",
            "639/639 [==============================] - 36s 56ms/step - loss: 0.0077 - accuracy: 0.9978\n",
            "Epoch 20/30\n",
            "639/639 [==============================] - 36s 57ms/step - loss: 0.0074 - accuracy: 0.9975\n",
            "Epoch 21/30\n",
            "639/639 [==============================] - 34s 52ms/step - loss: 0.0061 - accuracy: 0.9980\n",
            "Epoch 22/30\n",
            "639/639 [==============================] - 30s 47ms/step - loss: 0.0056 - accuracy: 0.9979\n",
            "Epoch 23/30\n",
            "639/639 [==============================] - 37s 57ms/step - loss: 0.0065 - accuracy: 0.9975\n",
            "Epoch 24/30\n",
            "639/639 [==============================] - 28s 44ms/step - loss: 0.0058 - accuracy: 0.9980\n",
            "Epoch 25/30\n",
            "639/639 [==============================] - 31s 48ms/step - loss: 0.0054 - accuracy: 0.9982\n",
            "Epoch 26/30\n",
            "639/639 [==============================] - 31s 49ms/step - loss: 0.0055 - accuracy: 0.9981\n",
            "Epoch 27/30\n",
            "639/639 [==============================] - 36s 56ms/step - loss: 0.0045 - accuracy: 0.9985\n",
            "Epoch 28/30\n",
            "639/639 [==============================] - 36s 57ms/step - loss: 0.0047 - accuracy: 0.9983\n",
            "Epoch 29/30\n",
            "639/639 [==============================] - 36s 57ms/step - loss: 0.0043 - accuracy: 0.9983\n",
            "Epoch 30/30\n",
            "639/639 [==============================] - 37s 58ms/step - loss: 0.0040 - accuracy: 0.9985\n"
          ],
          "name": "stdout"
        },
        {
          "output_type": "execute_result",
          "data": {
            "text/plain": [
              "<tensorflow.python.keras.callbacks.History at 0x7f12c6a6b860>"
            ]
          },
          "metadata": {
            "tags": []
          },
          "execution_count": 25
        }
      ]
    },
    {
      "cell_type": "markdown",
      "metadata": {
        "id": "wtGsCRB1SNz7"
      },
      "source": [
        "### 2.8 Saving and Loading the model"
      ]
    },
    {
      "cell_type": "code",
      "metadata": {
        "colab": {
          "base_uri": "https://localhost:8080/"
        },
        "id": "nF89BssGSNz7",
        "outputId": "a6badd67-26ef-4038-9c2d-503086372e8a"
      },
      "source": [
        "#Saving the model\n",
        "model.save('toxic.hd5')"
      ],
      "execution_count": 26,
      "outputs": [
        {
          "output_type": "stream",
          "text": [
            "WARNING:absl:Found untraced functions such as lstm_cell_1_layer_call_and_return_conditional_losses, lstm_cell_1_layer_call_fn, lstm_cell_2_layer_call_and_return_conditional_losses, lstm_cell_2_layer_call_fn, lstm_cell_4_layer_call_and_return_conditional_losses while saving (showing 5 of 20). These functions will not be directly callable after loading.\n",
            "WARNING:absl:Found untraced functions such as lstm_cell_1_layer_call_and_return_conditional_losses, lstm_cell_1_layer_call_fn, lstm_cell_2_layer_call_and_return_conditional_losses, lstm_cell_2_layer_call_fn, lstm_cell_4_layer_call_and_return_conditional_losses while saving (showing 5 of 20). These functions will not be directly callable after loading.\n"
          ],
          "name": "stderr"
        },
        {
          "output_type": "stream",
          "text": [
            "INFO:tensorflow:Assets written to: toxic.hd5/assets\n"
          ],
          "name": "stdout"
        },
        {
          "output_type": "stream",
          "text": [
            "INFO:tensorflow:Assets written to: toxic.hd5/assets\n"
          ],
          "name": "stderr"
        }
      ]
    },
    {
      "cell_type": "code",
      "metadata": {
        "id": "p9ZqAsysSNz8"
      },
      "source": [
        "model=load_model('toxic.hd5')"
      ],
      "execution_count": 27,
      "outputs": []
    },
    {
      "cell_type": "code",
      "metadata": {
        "colab": {
          "base_uri": "https://localhost:8080/"
        },
        "id": "g2d0Ki2KSNz8",
        "outputId": "11ba8b49-c562-4fa1-e2e2-ef3d413c5b6d"
      },
      "source": [
        "model.summary()"
      ],
      "execution_count": 28,
      "outputs": [
        {
          "output_type": "stream",
          "text": [
            "Model: \"sequential\"\n",
            "_________________________________________________________________\n",
            "Layer (type)                 Output Shape              Param #   \n",
            "=================================================================\n",
            "bidirectional (Bidirectional (None, 1, 60)             727440    \n",
            "_________________________________________________________________\n",
            "conv1d (Conv1D)              (None, 1, 30)             1830      \n",
            "_________________________________________________________________\n",
            "bidirectional_1 (Bidirection (None, 1, 60)             14640     \n",
            "_________________________________________________________________\n",
            "bidirectional_2 (Bidirection (None, 60)                21840     \n",
            "_________________________________________________________________\n",
            "activation (Activation)      (None, 60)                0         \n",
            "_________________________________________________________________\n",
            "dense (Dense)                (None, 2)                 122       \n",
            "=================================================================\n",
            "Total params: 765,872\n",
            "Trainable params: 765,872\n",
            "Non-trainable params: 0\n",
            "_________________________________________________________________\n"
          ],
          "name": "stdout"
        }
      ]
    },
    {
      "cell_type": "markdown",
      "metadata": {
        "id": "eProSINpSNz8"
      },
      "source": [
        "### Note: All the classification of the 6 categories (Toxic, Severely toxic, Obscene, Threat, Insult, Hate) have been done by fitting in the model designed above.  Hence, same steps have been followed for each classifier mentioned below."
      ]
    },
    {
      "cell_type": "markdown",
      "metadata": {
        "id": "Ei07kJ-bSNz8"
      },
      "source": [
        "### 2.8.1 Toxic category classification"
      ]
    },
    {
      "cell_type": "code",
      "metadata": {
        "colab": {
          "base_uri": "https://localhost:8080/"
        },
        "id": "ZzOWHsAUSNz8",
        "outputId": "275fba51-5e3c-4524-82c8-88eeb41422aa"
      },
      "source": [
        "#Converting test comments to tokenized form and test labels to categorical labels\n",
        "x_test=tokenize.texts_to_matrix(test_posts)\n",
        "x_test = np.reshape(x_test, (x_test.shape[0], 1, x_test.shape[1]))\n",
        "y_test = to_categorical(y_test)\n",
        "type(test_posts)\n"
      ],
      "execution_count": 29,
      "outputs": [
        {
          "output_type": "execute_result",
          "data": {
            "text/plain": [
              "pandas.core.series.Series"
            ]
          },
          "metadata": {
            "tags": []
          },
          "execution_count": 29
        }
      ]
    },
    {
      "cell_type": "code",
      "metadata": {
        "colab": {
          "base_uri": "https://localhost:8080/"
        },
        "id": "P9YYH9QYSNz9",
        "outputId": "aa480002-28c3-421b-a7ac-1f096fdbeff1"
      },
      "source": [
        "#Evaluating the test set results\n",
        "score = model.evaluate(x_test, y_test, batch_size=2000, verbose=1)\n",
        "print('Test score:', score[0])\n",
        "print('Test accuracy:', score[1])"
      ],
      "execution_count": 30,
      "outputs": [
        {
          "output_type": "stream",
          "text": [
            "16/16 [==============================] - 4s 90ms/step - loss: 0.3993 - accuracy: 0.9445\n",
            "Test score: 0.39929282665252686\n",
            "Test accuracy: 0.9445071220397949\n"
          ],
          "name": "stdout"
        }
      ]
    },
    {
      "cell_type": "markdown",
      "metadata": {
        "id": "1chSCpjHSNz9"
      },
      "source": [
        "### 2.8.1.1 Test set results"
      ]
    },
    {
      "cell_type": "code",
      "metadata": {
        "colab": {
          "base_uri": "https://localhost:8080/"
        },
        "id": "mq5NK_QglLZQ",
        "outputId": "37d521be-7f9b-4895-8028-c9a19f00cb32"
      },
      "source": [
        "x_test"
      ],
      "execution_count": 31,
      "outputs": [
        {
          "output_type": "execute_result",
          "data": {
            "text/plain": [
              "array([[[0., 1., 0., ..., 0., 0., 0.]],\n",
              "\n",
              "       [[0., 0., 0., ..., 0., 0., 0.]],\n",
              "\n",
              "       [[0., 1., 1., ..., 0., 0., 0.]],\n",
              "\n",
              "       ...,\n",
              "\n",
              "       [[0., 1., 1., ..., 0., 0., 0.]],\n",
              "\n",
              "       [[0., 0., 0., ..., 0., 0., 0.]],\n",
              "\n",
              "       [[0., 1., 1., ..., 0., 0., 0.]]])"
            ]
          },
          "metadata": {
            "tags": []
          },
          "execution_count": 31
        }
      ]
    },
    {
      "cell_type": "code",
      "metadata": {
        "id": "DeaC1mfgSNz9"
      },
      "source": [
        "for i in range(3):    \n",
        "    prediction = model.predict(np.array([x_test[i]]))"
      ],
      "execution_count": 32,
      "outputs": []
    },
    {
      "cell_type": "code",
      "metadata": {
        "id": "mKy5EEUWSNz9"
      },
      "source": [
        "output=model.predict(x_test).round(0).astype(int)[:,1]"
      ],
      "execution_count": 33,
      "outputs": []
    },
    {
      "cell_type": "code",
      "metadata": {
        "id": "U2A37k4sSNz9"
      },
      "source": [
        "x=pd.DataFrame({'Comment': test_posts, 'Toxic': output})"
      ],
      "execution_count": 34,
      "outputs": []
    },
    {
      "cell_type": "code",
      "metadata": {
        "colab": {
          "base_uri": "https://localhost:8080/",
          "height": 536
        },
        "id": "85txDgtMSNz-",
        "outputId": "4e6dc08e-775b-4451-816f-49a20dc4894c"
      },
      "source": [
        "x"
      ],
      "execution_count": 35,
      "outputs": [
        {
          "output_type": "execute_result",
          "data": {
            "text/html": [
              "<div>\n",
              "<style scoped>\n",
              "    .dataframe tbody tr th:only-of-type {\n",
              "        vertical-align: middle;\n",
              "    }\n",
              "\n",
              "    .dataframe tbody tr th {\n",
              "        vertical-align: top;\n",
              "    }\n",
              "\n",
              "    .dataframe thead th {\n",
              "        text-align: right;\n",
              "    }\n",
              "</style>\n",
              "<table border=\"1\" class=\"dataframe\">\n",
              "  <thead>\n",
              "    <tr style=\"text-align: right;\">\n",
              "      <th></th>\n",
              "      <th>Comment</th>\n",
              "      <th>Toxic</th>\n",
              "    </tr>\n",
              "  </thead>\n",
              "  <tbody>\n",
              "    <tr>\n",
              "      <th>0</th>\n",
              "      <td>explanation why the edits made under my username hardcore metallica fan were reverted they weren t vandalisms just closure on some gas after i voted at new york dolls fac and please don t remove the template from the talk page since i m retired now</td>\n",
              "      <td>0</td>\n",
              "    </tr>\n",
              "    <tr>\n",
              "      <th>1</th>\n",
              "      <td>d aww he matches this background colour i m seemingly stuck with thanks talk january utc</td>\n",
              "      <td>0</td>\n",
              "    </tr>\n",
              "    <tr>\n",
              "      <th>2</th>\n",
              "      <td>hey man i m really not trying to edit war it s just that this guy is constantly removing relevant information and talking to me through edits instead of my talk page he seems to care more about the formatting than the actual info</td>\n",
              "      <td>0</td>\n",
              "    </tr>\n",
              "    <tr>\n",
              "      <th>3</th>\n",
              "      <td>more i can t make any real suggestions on improvement i wondered if the section statistics should be later on or a subsection of types of accidents i think the references may need tidying so that they are all in the exact same format ie date format etc i can do that later on if no one else does first if you have any preferences for formatting style on references or want to do it yourself please let me know there appears to be a backlog on articles for review so i guess there may be a delay until a reviewer turns up it s listed in the relevant form eg wikipedia good article nominations transport</td>\n",
              "      <td>0</td>\n",
              "    </tr>\n",
              "    <tr>\n",
              "      <th>4</th>\n",
              "      <td>you sir are my hero any chance you remember what page that s on</td>\n",
              "      <td>0</td>\n",
              "    </tr>\n",
              "    <tr>\n",
              "      <th>...</th>\n",
              "      <td>...</td>\n",
              "      <td>...</td>\n",
              "    </tr>\n",
              "    <tr>\n",
              "      <th>31909</th>\n",
              "      <td>december utc i think it s essential that a proof of these lost works is done where does it say that they did in fact exist at some point apparently there is a listing but where can i go to see this listing</td>\n",
              "      <td>0</td>\n",
              "    </tr>\n",
              "    <tr>\n",
              "      <th>31910</th>\n",
              "      <td>unblock an administrator at ani has expressed her reasons why my block was inappropriate here please take a minute to see that i was unjustly blocked for doing something wikipedia allows me to do</td>\n",
              "      <td>0</td>\n",
              "    </tr>\n",
              "    <tr>\n",
              "      <th>31911</th>\n",
              "      <td>i am modifying the sentence to the saint thomas christians believed to be founded by the apostle thomas</td>\n",
              "      <td>0</td>\n",
              "    </tr>\n",
              "    <tr>\n",
              "      <th>31912</th>\n",
              "      <td>hey dipshit i made a contribution wooden ships so now i can make vandalizations after that i ll make another contribution cumfart with a picture of you lololol so i can make even more vandalisiziations</td>\n",
              "      <td>0</td>\n",
              "    </tr>\n",
              "    <tr>\n",
              "      <th>31913</th>\n",
              "      <td>note to an admin reviewing the unblock request please first review the relevant ani thread wp ani strange edits that i did not make appear in my contributions</td>\n",
              "      <td>0</td>\n",
              "    </tr>\n",
              "  </tbody>\n",
              "</table>\n",
              "<p>31914 rows × 2 columns</p>\n",
              "</div>"
            ],
            "text/plain": [
              "                                                                                                                                                                                                                                                                                                                                                                                                                                                                                                                                                                                                                           Comment  Toxic\n",
              "0      explanation why the edits made under my username hardcore metallica fan were reverted they weren t vandalisms just closure on some gas after i voted at new york dolls fac and please don t remove the template from the talk page since i m retired now                                                                                                                                                                                                                                                                                                                                                                     0    \n",
              "1      d aww he matches this background colour i m seemingly stuck with thanks talk january utc                                                                                                                                                                                                                                                                                                                                                                                                                                                                                                                                     0    \n",
              "2      hey man i m really not trying to edit war it s just that this guy is constantly removing relevant information and talking to me through edits instead of my talk page he seems to care more about the formatting than the actual info                                                                                                                                                                                                                                                                                                                                                                                        0    \n",
              "3       more i can t make any real suggestions on improvement i wondered if the section statistics should be later on or a subsection of types of accidents i think the references may need tidying so that they are all in the exact same format ie date format etc i can do that later on if no one else does first if you have any preferences for formatting style on references or want to do it yourself please let me know there appears to be a backlog on articles for review so i guess there may be a delay until a reviewer turns up it s listed in the relevant form eg wikipedia good article nominations transport   0    \n",
              "4      you sir are my hero any chance you remember what page that s on                                                                                                                                                                                                                                                                                                                                                                                                                                                                                                                                                              0    \n",
              "...                                                                 ...                                                                                                                                                                                                                                                                                                                                                                                                                                                                                                                                                            ..    \n",
              "31909  december utc i think it s essential that a proof of these lost works is done where does it say that they did in fact exist at some point apparently there is a listing but where can i go to see this listing                                                                                                                                                                                                                                                                                                                                                                                                                0    \n",
              "31910   unblock an administrator at ani has expressed her reasons why my block was inappropriate here please take a minute to see that i was unjustly blocked for doing something wikipedia allows me to do                                                                                                                                                                                                                                                                                                                                                                                                                         0    \n",
              "31911  i am modifying the sentence to the saint thomas christians believed to be founded by the apostle thomas                                                                                                                                                                                                                                                                                                                                                                                                                                                                                                                      0    \n",
              "31912   hey dipshit i made a contribution wooden ships so now i can make vandalizations after that i ll make another contribution cumfart with a picture of you lololol so i can make even more vandalisiziations                                                                                                                                                                                                                                                                                                                                                                                                                   0    \n",
              "31913  note to an admin reviewing the unblock request please first review the relevant ani thread wp ani strange edits that i did not make appear in my contributions                                                                                                                                                                                                                                                                                                                                                                                                                                                               0    \n",
              "\n",
              "[31914 rows x 2 columns]"
            ]
          },
          "metadata": {
            "tags": []
          },
          "execution_count": 35
        }
      ]
    },
    {
      "cell_type": "code",
      "metadata": {
        "collapsed": true,
        "colab": {
          "base_uri": "https://localhost:8080/"
        },
        "id": "G6RBYha8SNz-",
        "outputId": "3d16cb9d-ea73-4b42-8513-b70426a3ce11"
      },
      "source": [
        "y_test"
      ],
      "execution_count": 36,
      "outputs": [
        {
          "output_type": "execute_result",
          "data": {
            "text/plain": [
              "array([[1., 0.],\n",
              "       [1., 0.],\n",
              "       [1., 0.],\n",
              "       ...,\n",
              "       [1., 0.],\n",
              "       [1., 0.],\n",
              "       [1., 0.]], dtype=float32)"
            ]
          },
          "metadata": {
            "tags": []
          },
          "execution_count": 36
        }
      ]
    },
    {
      "cell_type": "markdown",
      "metadata": {
        "id": "mrUt2C8OsFmB"
      },
      "source": [
        "# Predictions on personal ds"
      ]
    },
    {
      "cell_type": "code",
      "metadata": {
        "colab": {
          "base_uri": "https://localhost:8080/"
        },
        "id": "ArAhc8XjsD3U",
        "outputId": "8042b9fd-4721-441d-9efe-bcea547db6ae"
      },
      "source": [
        "s =pd.DataFrame([[\"hellow aamzimg ppl\"],[\"hey bitch guess what koschecks fighting at ufc you know waht that means so give your adress so i could make u suck my cock\"],[\"way to be racist asshole\t\"]])\r\n",
        "test_posts = s[0][:]\r\n",
        "test_posts\r\n"
      ],
      "execution_count": 37,
      "outputs": [
        {
          "output_type": "execute_result",
          "data": {
            "text/plain": [
              "0    hellow aamzimg ppl                                                                                                        \n",
              "1    hey bitch guess what koschecks fighting at ufc you know waht that means so give your adress so i could make u suck my cock\n",
              "2    way to be racist asshole\\t                                                                                                \n",
              "Name: 0, dtype: object"
            ]
          },
          "metadata": {
            "tags": []
          },
          "execution_count": 37
        }
      ]
    },
    {
      "cell_type": "code",
      "metadata": {
        "id": "EGap0i6dsjV_"
      },
      "source": [
        "#Converting test comments to tokenized form and test labels to categorical labels\r\n",
        "x_test=tokenize.texts_to_matrix(test_posts)\r\n",
        "x_test = np.reshape(x_test, (x_test.shape[0], 1, x_test.shape[1]))\r\n"
      ],
      "execution_count": 44,
      "outputs": []
    },
    {
      "cell_type": "code",
      "metadata": {
        "id": "AIgsXTOQsoiL"
      },
      "source": [
        "for i in range(3):    \r\n",
        "    prediction = model.predict(np.array([x_test[i]]))"
      ],
      "execution_count": 45,
      "outputs": []
    },
    {
      "cell_type": "code",
      "metadata": {
        "id": "P1vTWLe6stce"
      },
      "source": [
        "output=model.predict(x_test).round(0).astype(int)[:,1]"
      ],
      "execution_count": 46,
      "outputs": []
    },
    {
      "cell_type": "code",
      "metadata": {
        "colab": {
          "base_uri": "https://localhost:8080/"
        },
        "id": "tMkk_Yjtsxja",
        "outputId": "e5910485-94e7-4c87-dede-8a56721fd084"
      },
      "source": [
        "x=pd.DataFrame({'Comment': test_posts, 'Toxic': output})\r\n",
        "\r\n",
        "output"
      ],
      "execution_count": 47,
      "outputs": [
        {
          "output_type": "execute_result",
          "data": {
            "text/plain": [
              "array([0, 1, 1])"
            ]
          },
          "metadata": {
            "tags": []
          },
          "execution_count": 47
        }
      ]
    },
    {
      "cell_type": "code",
      "metadata": {
        "id": "vMLgsgPa08pu"
      },
      "source": [
        ""
      ],
      "execution_count": null,
      "outputs": []
    }
  ]
}